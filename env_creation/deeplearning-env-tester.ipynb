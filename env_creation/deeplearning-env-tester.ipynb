{
 "cells": [
  {
   "cell_type": "markdown",
   "id": "f97f9d3b",
   "metadata": {},
   "source": [
    "## Validating `deeplearning` conda environment"
   ]
  },
  {
   "cell_type": "markdown",
   "id": "b87b0989",
   "metadata": {},
   "source": [
    "### validating imports"
   ]
  },
  {
   "cell_type": "code",
   "execution_count": null,
   "id": "3b6fc26f",
   "metadata": {
    "ExecuteTime": {
     "start_time": "2023-03-13T20:33:09.780Z"
    }
   },
   "outputs": [],
   "source": [
    "import sys\n",
    "\n",
    "# import tensorflow.keras\n",
    "import pandas as pd\n",
    "# import sklearn as sk\n",
    "# import tensorflow as tf"
   ]
  },
  {
   "cell_type": "code",
   "execution_count": null,
   "id": "3cd8e462",
   "metadata": {
    "ExecuteTime": {
     "start_time": "2023-03-13T20:22:45.180Z"
    }
   },
   "outputs": [],
   "source": [
    "# versions of all the packages\n",
    "import sys\n",
    "\n",
    "import tensorflow.keras\n",
    "import pandas as pd\n",
    "import sklearn as sk\n",
    "import tensorflow as tf\n",
    "\n",
    "print(f\"Tensor Flow Version: {tf.__version__}\")\n",
    "print(f\"Keras Version: {tensorflow.keras.__version__}\")\n",
    "print()\n",
    "print(f\"Python {sys.version}\")\n",
    "print(f\"Pandas {pd.__version__}\")\n",
    "print(f\"Scikit-Learn {sk.__version__}\")"
   ]
  },
  {
   "cell_type": "markdown",
   "id": "86a63bca",
   "metadata": {},
   "source": [
    "### validating gpu access"
   ]
  },
  {
   "cell_type": "code",
   "execution_count": 1,
   "id": "994e4421",
   "metadata": {
    "ExecuteTime": {
     "end_time": "2023-03-13T20:22:29.559996Z",
     "start_time": "2023-03-13T20:22:29.400771Z"
    }
   },
   "outputs": [
    {
     "ename": "NameError",
     "evalue": "name 'tf' is not defined",
     "output_type": "error",
     "traceback": [
      "\u001b[0;31m---------------------------------------------------------------------------\u001b[0m",
      "\u001b[0;31mNameError\u001b[0m                                 Traceback (most recent call last)",
      "Cell \u001b[0;32mIn[1], line 2\u001b[0m\n\u001b[1;32m      1\u001b[0m \u001b[38;5;66;03m# check for gpu access\u001b[39;00m\n\u001b[0;32m----> 2\u001b[0m \u001b[38;5;28mprint\u001b[39m(\u001b[38;5;124mf\u001b[39m\u001b[38;5;124m\"\u001b[39m\u001b[38;5;124mTensorFlow has access to the following devices:\u001b[39m\u001b[38;5;130;01m\\n\u001b[39;00m\u001b[38;5;132;01m{\u001b[39;00mtf\u001b[38;5;241m.\u001b[39mconfig\u001b[38;5;241m.\u001b[39mlist_physical_devices()\u001b[38;5;132;01m}\u001b[39;00m\u001b[38;5;124m\"\u001b[39m)\n\u001b[1;32m      4\u001b[0m gpu \u001b[38;5;241m=\u001b[39m \u001b[38;5;28mlen\u001b[39m(tf\u001b[38;5;241m.\u001b[39mconfig\u001b[38;5;241m.\u001b[39mlist_physical_devices(\u001b[38;5;124m'\u001b[39m\u001b[38;5;124mGPU\u001b[39m\u001b[38;5;124m'\u001b[39m))\u001b[38;5;241m>\u001b[39m\u001b[38;5;241m0\u001b[39m\n\u001b[1;32m      5\u001b[0m \u001b[38;5;28mprint\u001b[39m(\u001b[38;5;124m\"\u001b[39m\u001b[38;5;124mGPU is\u001b[39m\u001b[38;5;124m\"\u001b[39m, \u001b[38;5;124m\"\u001b[39m\u001b[38;5;124mavailable\u001b[39m\u001b[38;5;124m\"\u001b[39m \u001b[38;5;28;01mif\u001b[39;00m gpu \u001b[38;5;28;01melse\u001b[39;00m \u001b[38;5;124m\"\u001b[39m\u001b[38;5;124mNOT AVAILABLE\u001b[39m\u001b[38;5;124m\"\u001b[39m)\n",
      "\u001b[0;31mNameError\u001b[0m: name 'tf' is not defined"
     ]
    }
   ],
   "source": [
    "# check for gpu access\n",
    "print(f\"TensorFlow has access to the following devices:\\n{tf.config.list_physical_devices()}\")\n",
    "\n",
    "gpu = len(tf.config.list_physical_devices('GPU'))>0\n",
    "print(\"GPU is\", \"available\" if gpu else \"NOT AVAILABLE\")"
   ]
  },
  {
   "cell_type": "markdown",
   "id": "7cb17780",
   "metadata": {},
   "source": [
    "### run a sample code"
   ]
  },
  {
   "cell_type": "code",
   "execution_count": 3,
   "id": "2b613217",
   "metadata": {
    "ExecuteTime": {
     "end_time": "2022-12-21T06:19:03.891582Z",
     "start_time": "2022-12-21T06:13:45.925030Z"
    },
    "scrolled": true
   },
   "outputs": [
    {
     "name": "stdout",
     "output_type": "stream",
     "text": [
      "TensorFlow version: 2.3.0\n",
      "Num GPUs Available:  0\n",
      "WARNING:tensorflow:AutoGraph could not transform <function normalize_img at 0x000001E3A1DA75E0> and will run it as-is.\n",
      "Please report this to the TensorFlow team. When filing the bug, set the verbosity to 10 (on Linux, `export AUTOGRAPH_VERBOSITY=10`) and attach the full output.\n",
      "Cause: Unable to locate the source code of <function normalize_img at 0x000001E3A1DA75E0>. Note that functions defined in certain environments, like the interactive Python shell do not expose their source code. If that is the case, you should to define them in a .py source file. If you are certain the code is graph-compatible, wrap the call using @tf.autograph.do_not_convert. Original error: could not get source code\n",
      "To silence this warning, decorate the function with @tf.autograph.experimental.do_not_convert\n"
     ]
    },
    {
     "name": "stderr",
     "output_type": "stream",
     "text": [
      "WARNING:tensorflow:AutoGraph could not transform <function normalize_img at 0x000001E3A1DA75E0> and will run it as-is.\n",
      "Please report this to the TensorFlow team. When filing the bug, set the verbosity to 10 (on Linux, `export AUTOGRAPH_VERBOSITY=10`) and attach the full output.\n",
      "Cause: Unable to locate the source code of <function normalize_img at 0x000001E3A1DA75E0>. Note that functions defined in certain environments, like the interactive Python shell do not expose their source code. If that is the case, you should to define them in a .py source file. If you are certain the code is graph-compatible, wrap the call using @tf.autograph.do_not_convert. Original error: could not get source code\n",
      "To silence this warning, decorate the function with @tf.autograph.experimental.do_not_convert\n"
     ]
    },
    {
     "name": "stdout",
     "output_type": "stream",
     "text": [
      "WARNING: AutoGraph could not transform <function normalize_img at 0x000001E3A1DA75E0> and will run it as-is.\n",
      "Please report this to the TensorFlow team. When filing the bug, set the verbosity to 10 (on Linux, `export AUTOGRAPH_VERBOSITY=10`) and attach the full output.\n",
      "Cause: Unable to locate the source code of <function normalize_img at 0x000001E3A1DA75E0>. Note that functions defined in certain environments, like the interactive Python shell do not expose their source code. If that is the case, you should to define them in a .py source file. If you are certain the code is graph-compatible, wrap the call using @tf.autograph.do_not_convert. Original error: could not get source code\n",
      "To silence this warning, decorate the function with @tf.autograph.experimental.do_not_convert\n",
      "Epoch 1/12\n",
      "469/469 [==============================] - 27s 58ms/step - loss: 0.1665 - accuracy: 0.9491 - val_loss: 0.0471 - val_accuracy: 0.9865\n",
      "Epoch 2/12\n",
      "469/469 [==============================] - 28s 59ms/step - loss: 0.0447 - accuracy: 0.9865 - val_loss: 0.0427 - val_accuracy: 0.9848\n",
      "Epoch 3/12\n",
      "469/469 [==============================] - 25s 54ms/step - loss: 0.0288 - accuracy: 0.9911 - val_loss: 0.0365 - val_accuracy: 0.9893\n",
      "Epoch 4/12\n",
      "469/469 [==============================] - 25s 54ms/step - loss: 0.0198 - accuracy: 0.9938 - val_loss: 0.0370 - val_accuracy: 0.9889\n",
      "Epoch 5/12\n",
      "469/469 [==============================] - 27s 57ms/step - loss: 0.0128 - accuracy: 0.9957 - val_loss: 0.0369 - val_accuracy: 0.9888\n",
      "Epoch 6/12\n",
      "469/469 [==============================] - 26s 55ms/step - loss: 0.0103 - accuracy: 0.9966 - val_loss: 0.0454 - val_accuracy: 0.9849\n",
      "Epoch 7/12\n",
      "469/469 [==============================] - 25s 53ms/step - loss: 0.0083 - accuracy: 0.9974 - val_loss: 0.0369 - val_accuracy: 0.9900\n",
      "Epoch 8/12\n",
      "469/469 [==============================] - 25s 54ms/step - loss: 0.0062 - accuracy: 0.9981 - val_loss: 0.0543 - val_accuracy: 0.9859\n",
      "Epoch 9/12\n",
      "469/469 [==============================] - 26s 55ms/step - loss: 0.0068 - accuracy: 0.9976 - val_loss: 0.0509 - val_accuracy: 0.9877\n",
      "Epoch 10/12\n",
      "469/469 [==============================] - 26s 56ms/step - loss: 0.0051 - accuracy: 0.9982 - val_loss: 0.0396 - val_accuracy: 0.9902\n",
      "Epoch 11/12\n",
      "469/469 [==============================] - 27s 58ms/step - loss: 0.0040 - accuracy: 0.9987 - val_loss: 0.0399 - val_accuracy: 0.9902\n",
      "Epoch 12/12\n",
      "469/469 [==============================] - 27s 57ms/step - loss: 0.0040 - accuracy: 0.9987 - val_loss: 0.0420 - val_accuracy: 0.9903\n",
      "CPU times: total: 31min 44s\n",
      "Wall time: 5min 17s\n"
     ]
    },
    {
     "data": {
      "text/plain": [
       "<tensorflow.python.keras.callbacks.History at 0x1e3a2fee550>"
      ]
     },
     "execution_count": 3,
     "metadata": {},
     "output_type": "execute_result"
    }
   ],
   "source": [
    "%%time\n",
    "\n",
    "import tensorflow as tf\n",
    "import tensorflow_datasets as tfds\n",
    "\n",
    "print(\"TensorFlow version:\", tf.__version__)\n",
    "print(\"Num GPUs Available: \", len(tf.config.experimental.list_physical_devices('GPU')))\n",
    "\n",
    "tf.config.list_physical_devices('GPU')\n",
    "(ds_train, ds_test), ds_info = tfds.load(\n",
    "    'mnist',\n",
    "    split=['train', 'test'],\n",
    "    shuffle_files=True,\n",
    "    as_supervised=True,\n",
    "    with_info=True,\n",
    ")\n",
    "\n",
    "def normalize_img(image, label):\n",
    "  \"\"\"Normalizes images: `uint8` -> `float32`.\"\"\"\n",
    "  return tf.cast(image, tf.float32) / 255., label\n",
    "\n",
    "batch_size = 128\n",
    "ds_train = ds_train.map(\n",
    "    normalize_img, num_parallel_calls=tf.data.experimental.AUTOTUNE)\n",
    "ds_train = ds_train.cache()\n",
    "ds_train = ds_train.shuffle(ds_info.splits['train'].num_examples)\n",
    "ds_train = ds_train.batch(batch_size)\n",
    "ds_train = ds_train.prefetch(tf.data.experimental.AUTOTUNE)\n",
    "ds_test = ds_test.map(\n",
    "    normalize_img, num_parallel_calls=tf.data.experimental.AUTOTUNE)\n",
    "ds_test = ds_test.batch(batch_size)\n",
    "ds_test = ds_test.cache()\n",
    "ds_test = ds_test.prefetch(tf.data.experimental.AUTOTUNE)\n",
    "model = tf.keras.models.Sequential([\n",
    "  tf.keras.layers.Conv2D(32, kernel_size=(3, 3),\n",
    "                 activation='relu'),\n",
    "  tf.keras.layers.Conv2D(64, kernel_size=(3, 3),\n",
    "                 activation='relu'),\n",
    "  tf.keras.layers.MaxPooling2D(pool_size=(2, 2)),\n",
    "#   tf.keras.layers.Dropout(0.25),\n",
    "  tf.keras.layers.Flatten(),\n",
    "  tf.keras.layers.Dense(128, activation='relu'),\n",
    "#   tf.keras.layers.Dropout(0.5),\n",
    "  tf.keras.layers.Dense(10, activation='softmax')\n",
    "])\n",
    "model.compile(\n",
    "    loss='sparse_categorical_crossentropy',\n",
    "    optimizer=tf.keras.optimizers.Adam(0.001),\n",
    "    metrics=['accuracy'],\n",
    ")\n",
    "model.fit(\n",
    "    ds_train,\n",
    "    epochs=12,\n",
    "    validation_data=ds_test,\n",
    ")"
   ]
  },
  {
   "cell_type": "code",
   "execution_count": 4,
   "id": "2f2157e0",
   "metadata": {
    "ExecuteTime": {
     "end_time": "2022-12-21T06:09:43.262363Z",
     "start_time": "2022-12-21T06:09:06.491408Z"
    },
    "code_folding": []
   },
   "outputs": [
    {
     "name": "stdout",
     "output_type": "stream",
     "text": [
      "TensorFlow version: 2.10.0\n",
      "Num GPUs Available:  1\n",
      "WARNING:tensorflow:AutoGraph could not transform <function normalize_img at 0x0000028C79E7DCA0> and will run it as-is.\n",
      "Cause: Unable to locate the source code of <function normalize_img at 0x0000028C79E7DCA0>. Note that functions defined in certain environments, like the interactive Python shell, do not expose their source code. If that is the case, you should define them in a .py source file. If you are certain the code is graph-compatible, wrap the call using @tf.autograph.experimental.do_not_convert. Original error: could not get source code\n",
      "To silence this warning, decorate the function with @tf.autograph.experimental.do_not_convert\n"
     ]
    },
    {
     "name": "stderr",
     "output_type": "stream",
     "text": [
      "WARNING:tensorflow:AutoGraph could not transform <function normalize_img at 0x0000028C79E7DCA0> and will run it as-is.\n",
      "Cause: Unable to locate the source code of <function normalize_img at 0x0000028C79E7DCA0>. Note that functions defined in certain environments, like the interactive Python shell, do not expose their source code. If that is the case, you should define them in a .py source file. If you are certain the code is graph-compatible, wrap the call using @tf.autograph.experimental.do_not_convert. Original error: could not get source code\n",
      "To silence this warning, decorate the function with @tf.autograph.experimental.do_not_convert\n"
     ]
    },
    {
     "name": "stdout",
     "output_type": "stream",
     "text": [
      "WARNING: AutoGraph could not transform <function normalize_img at 0x0000028C79E7DCA0> and will run it as-is.\n",
      "Cause: Unable to locate the source code of <function normalize_img at 0x0000028C79E7DCA0>. Note that functions defined in certain environments, like the interactive Python shell, do not expose their source code. If that is the case, you should define them in a .py source file. If you are certain the code is graph-compatible, wrap the call using @tf.autograph.experimental.do_not_convert. Original error: could not get source code\n",
      "To silence this warning, decorate the function with @tf.autograph.experimental.do_not_convert\n",
      "Epoch 1/12\n",
      "469/469 [==============================] - 4s 7ms/step - loss: 0.1631 - accuracy: 0.9513 - val_loss: 0.0478 - val_accuracy: 0.9855\n",
      "Epoch 2/12\n",
      "469/469 [==============================] - 3s 6ms/step - loss: 0.0441 - accuracy: 0.9865 - val_loss: 0.0419 - val_accuracy: 0.9859\n",
      "Epoch 3/12\n",
      "469/469 [==============================] - 3s 6ms/step - loss: 0.0268 - accuracy: 0.9912 - val_loss: 0.0335 - val_accuracy: 0.9896\n",
      "Epoch 4/12\n",
      "469/469 [==============================] - 3s 6ms/step - loss: 0.0181 - accuracy: 0.9942 - val_loss: 0.0342 - val_accuracy: 0.9884\n",
      "Epoch 5/12\n",
      "469/469 [==============================] - 3s 6ms/step - loss: 0.0133 - accuracy: 0.9958 - val_loss: 0.0332 - val_accuracy: 0.9901\n",
      "Epoch 6/12\n",
      "469/469 [==============================] - 3s 6ms/step - loss: 0.0100 - accuracy: 0.9966 - val_loss: 0.0419 - val_accuracy: 0.9868\n",
      "Epoch 7/12\n",
      "469/469 [==============================] - 3s 6ms/step - loss: 0.0093 - accuracy: 0.9968 - val_loss: 0.0363 - val_accuracy: 0.9909\n",
      "Epoch 8/12\n",
      "469/469 [==============================] - 3s 6ms/step - loss: 0.0067 - accuracy: 0.9975 - val_loss: 0.0349 - val_accuracy: 0.9906\n",
      "Epoch 9/12\n",
      "469/469 [==============================] - 3s 6ms/step - loss: 0.0038 - accuracy: 0.9989 - val_loss: 0.0465 - val_accuracy: 0.9890\n",
      "Epoch 10/12\n",
      "469/469 [==============================] - 3s 6ms/step - loss: 0.0069 - accuracy: 0.9977 - val_loss: 0.0493 - val_accuracy: 0.9881\n",
      "Epoch 11/12\n",
      "469/469 [==============================] - 3s 6ms/step - loss: 0.0042 - accuracy: 0.9985 - val_loss: 0.0360 - val_accuracy: 0.9902\n",
      "Epoch 12/12\n",
      "469/469 [==============================] - 3s 6ms/step - loss: 0.0040 - accuracy: 0.9986 - val_loss: 0.0489 - val_accuracy: 0.9897\n",
      "CPU times: total: 42.6 s\n",
      "Wall time: 36.7 s\n"
     ]
    },
    {
     "data": {
      "text/plain": [
       "<keras.callbacks.History at 0x28c7c04d910>"
      ]
     },
     "execution_count": 4,
     "metadata": {},
     "output_type": "execute_result"
    }
   ],
   "source": [
    "%%time\n",
    "\n",
    "import tensorflow as tf\n",
    "import tensorflow_datasets as tfds\n",
    "\n",
    "print(\"TensorFlow version:\", tf.__version__)\n",
    "print(\"Num GPUs Available: \", len(tf.config.experimental.list_physical_devices('GPU')))\n",
    "\n",
    "tf.config.list_physical_devices()\n",
    "(ds_train, ds_test), ds_info = tfds.load(\n",
    "    'mnist',\n",
    "    split=['train', 'test'],\n",
    "    shuffle_files=True,\n",
    "    as_supervised=True,\n",
    "    with_info=True,\n",
    ")\n",
    "\n",
    "def normalize_img(image, label):\n",
    "  \"\"\"Normalizes images: `uint8` -> `float32`.\"\"\"\n",
    "  return tf.cast(image, tf.float32) / 255., label\n",
    "\n",
    "batch_size = 128\n",
    "ds_train = ds_train.map(\n",
    "    normalize_img, num_parallel_calls=tf.data.experimental.AUTOTUNE)\n",
    "ds_train = ds_train.cache()\n",
    "ds_train = ds_train.shuffle(ds_info.splits['train'].num_examples)\n",
    "ds_train = ds_train.batch(batch_size)\n",
    "ds_train = ds_train.prefetch(tf.data.experimental.AUTOTUNE)\n",
    "ds_test = ds_test.map(\n",
    "    normalize_img, num_parallel_calls=tf.data.experimental.AUTOTUNE)\n",
    "ds_test = ds_test.batch(batch_size)\n",
    "ds_test = ds_test.cache()\n",
    "ds_test = ds_test.prefetch(tf.data.experimental.AUTOTUNE)\n",
    "model = tf.keras.models.Sequential([\n",
    "  tf.keras.layers.Conv2D(32, kernel_size=(3, 3),\n",
    "                 activation='relu'),\n",
    "  tf.keras.layers.Conv2D(64, kernel_size=(3, 3),\n",
    "                 activation='relu'),\n",
    "  tf.keras.layers.MaxPooling2D(pool_size=(2, 2)),\n",
    "#   tf.keras.layers.Dropout(0.25),\n",
    "  tf.keras.layers.Flatten(),\n",
    "  tf.keras.layers.Dense(128, activation='relu'),\n",
    "#   tf.keras.layers.Dropout(0.5),\n",
    "  tf.keras.layers.Dense(10, activation='softmax')\n",
    "])\n",
    "model.compile(\n",
    "    loss='sparse_categorical_crossentropy',\n",
    "    optimizer=tf.keras.optimizers.Adam(0.001),\n",
    "    metrics=['accuracy'],\n",
    ")\n",
    "model.fit(\n",
    "    ds_train,\n",
    "    epochs=12,\n",
    "    validation_data=ds_test,\n",
    ")"
   ]
  },
  {
   "cell_type": "code",
   "execution_count": null,
   "id": "30a42313",
   "metadata": {},
   "outputs": [],
   "source": []
  }
 ],
 "metadata": {
  "kernelspec": {
   "display_name": "deeplearning_mac_2",
   "language": "python",
   "name": "deeplearning_mac_2"
  },
  "language_info": {
   "codemirror_mode": {
    "name": "ipython",
    "version": 3
   },
   "file_extension": ".py",
   "mimetype": "text/x-python",
   "name": "python",
   "nbconvert_exporter": "python",
   "pygments_lexer": "ipython3",
   "version": "3.8.15"
  },
  "toc": {
   "base_numbering": 1,
   "nav_menu": {},
   "number_sections": true,
   "sideBar": true,
   "skip_h1_title": false,
   "title_cell": "Table of Contents",
   "title_sidebar": "Contents",
   "toc_cell": false,
   "toc_position": {},
   "toc_section_display": true,
   "toc_window_display": false
  }
 },
 "nbformat": 4,
 "nbformat_minor": 5
}
